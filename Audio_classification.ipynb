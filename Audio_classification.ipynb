{
  "cells": [
    {
      "cell_type": "markdown",
      "metadata": {
        "id": "view-in-github",
        "colab_type": "text"
      },
      "source": [
        "<a href=\"https://colab.research.google.com/github/abishekP101/Pytorch/blob/main/Audio_classification.ipynb\" target=\"_parent\"><img src=\"https://colab.research.google.com/assets/colab-badge.svg\" alt=\"Open In Colab\"/></a>"
      ]
    },
    {
      "cell_type": "code",
      "execution_count": null,
      "metadata": {
        "colab": {
          "base_uri": "https://localhost:8080/"
        },
        "id": "HS_X9RLQkuxX",
        "outputId": "44ed0eac-0bc9-4921-804f-44248fee7398"
      },
      "outputs": [
        {
          "output_type": "stream",
          "name": "stdout",
          "text": [
            "Collecting opendatasets\n",
            "  Downloading opendatasets-0.1.22-py3-none-any.whl.metadata (9.2 kB)\n",
            "Requirement already satisfied: tqdm in /usr/local/lib/python3.12/dist-packages (from opendatasets) (4.67.1)\n",
            "Requirement already satisfied: kaggle in /usr/local/lib/python3.12/dist-packages (from opendatasets) (1.7.4.5)\n",
            "Requirement already satisfied: click in /usr/local/lib/python3.12/dist-packages (from opendatasets) (8.2.1)\n",
            "Requirement already satisfied: bleach in /usr/local/lib/python3.12/dist-packages (from kaggle->opendatasets) (6.2.0)\n",
            "Requirement already satisfied: certifi>=14.05.14 in /usr/local/lib/python3.12/dist-packages (from kaggle->opendatasets) (2025.8.3)\n",
            "Requirement already satisfied: charset-normalizer in /usr/local/lib/python3.12/dist-packages (from kaggle->opendatasets) (3.4.3)\n",
            "Requirement already satisfied: idna in /usr/local/lib/python3.12/dist-packages (from kaggle->opendatasets) (3.10)\n",
            "Requirement already satisfied: protobuf in /usr/local/lib/python3.12/dist-packages (from kaggle->opendatasets) (5.29.5)\n",
            "Requirement already satisfied: python-dateutil>=2.5.3 in /usr/local/lib/python3.12/dist-packages (from kaggle->opendatasets) (2.9.0.post0)\n",
            "Requirement already satisfied: python-slugify in /usr/local/lib/python3.12/dist-packages (from kaggle->opendatasets) (8.0.4)\n",
            "Requirement already satisfied: requests in /usr/local/lib/python3.12/dist-packages (from kaggle->opendatasets) (2.32.4)\n",
            "Requirement already satisfied: setuptools>=21.0.0 in /usr/local/lib/python3.12/dist-packages (from kaggle->opendatasets) (75.2.0)\n",
            "Requirement already satisfied: six>=1.10 in /usr/local/lib/python3.12/dist-packages (from kaggle->opendatasets) (1.17.0)\n",
            "Requirement already satisfied: text-unidecode in /usr/local/lib/python3.12/dist-packages (from kaggle->opendatasets) (1.3)\n",
            "Requirement already satisfied: urllib3>=1.15.1 in /usr/local/lib/python3.12/dist-packages (from kaggle->opendatasets) (2.5.0)\n",
            "Requirement already satisfied: webencodings in /usr/local/lib/python3.12/dist-packages (from kaggle->opendatasets) (0.5.1)\n",
            "Downloading opendatasets-0.1.22-py3-none-any.whl (15 kB)\n",
            "Installing collected packages: opendatasets\n",
            "Successfully installed opendatasets-0.1.22\n",
            "Please provide your Kaggle credentials to download this dataset. Learn more: http://bit.ly/kaggle-creds\n",
            "Your Kaggle username: abishek11prasad\n",
            "Your Kaggle Key: ··········\n",
            "Dataset URL: https://www.kaggle.com/datasets/mohammedalrajeh/quran-recitations-for-audio-classification\n",
            "Downloading quran-recitations-for-audio-classification.zip to ./quran-recitations-for-audio-classification\n"
          ]
        },
        {
          "output_type": "stream",
          "name": "stderr",
          "text": [
            "100%|██████████| 2.12G/2.12G [00:13<00:00, 173MB/s]\n"
          ]
        },
        {
          "output_type": "stream",
          "name": "stdout",
          "text": [
            "\n"
          ]
        }
      ],
      "source": [
        "!pip install opendatasets\n",
        "import opendatasets as od\n",
        "od.download(\"https://www.kaggle.com/datasets/mohammedalrajeh/quran-recitations-for-audio-classification\")"
      ]
    },
    {
      "cell_type": "code",
      "execution_count": null,
      "metadata": {
        "id": "6rEDhECjlEhK"
      },
      "outputs": [],
      "source": []
    },
    {
      "cell_type": "code",
      "execution_count": null,
      "metadata": {
        "id": "WZp5bG8flO16"
      },
      "outputs": [],
      "source": [
        "import torch\n",
        "import torch.nn as nn\n",
        "from torch.utils.data import DataLoader , Dataset\n",
        "from torch.optim import Adam\n",
        "from sklearn.preprocessing import LabelEncoder\n",
        "import matplotlib.pyplot as plt\n",
        "import pandas as pd\n",
        "import numpy as np\n",
        "import os\n",
        "import time\n",
        "from skimage.transform import resize\n",
        "import librosa"
      ]
    },
    {
      "cell_type": "code",
      "execution_count": null,
      "metadata": {
        "id": "T597HsSmlsll"
      },
      "outputs": [],
      "source": [
        "device = \"cuda\" if torch.cuda.is_available() else \"cpu\""
      ]
    },
    {
      "cell_type": "code",
      "execution_count": null,
      "metadata": {
        "id": "Of9bBIjJl0Sr"
      },
      "outputs": [],
      "source": [
        "data = pd.read_csv(\"/content/quran-recitations-for-audio-classification/files_paths.csv\")"
      ]
    },
    {
      "cell_type": "code",
      "execution_count": null,
      "metadata": {
        "colab": {
          "base_uri": "https://localhost:8080/",
          "height": 206
        },
        "id": "NVk3YUMKmUuO",
        "outputId": "18790594-d789-4685-b2f8-a8c3f6a16ece"
      },
      "outputs": [
        {
          "output_type": "execute_result",
          "data": {
            "text/plain": [
              "                                        FilePath               Class\n",
              "0  ./Dataset/Mohammed_Aluhaidan/lohaidan_171.wav  Mohammed_Aluhaidan\n",
              "1  ./Dataset/Mohammed_Aluhaidan/lohaidan_159.wav  Mohammed_Aluhaidan\n",
              "2  ./Dataset/Mohammed_Aluhaidan/lohaidan_401.wav  Mohammed_Aluhaidan\n",
              "3  ./Dataset/Mohammed_Aluhaidan/lohaidan_367.wav  Mohammed_Aluhaidan\n",
              "4  ./Dataset/Mohammed_Aluhaidan/lohaidan_373.wav  Mohammed_Aluhaidan"
            ],
            "text/html": [
              "\n",
              "  <div id=\"df-d1fa0cb8-5537-4a35-aa4e-325c3f3dcc80\" class=\"colab-df-container\">\n",
              "    <div>\n",
              "<style scoped>\n",
              "    .dataframe tbody tr th:only-of-type {\n",
              "        vertical-align: middle;\n",
              "    }\n",
              "\n",
              "    .dataframe tbody tr th {\n",
              "        vertical-align: top;\n",
              "    }\n",
              "\n",
              "    .dataframe thead th {\n",
              "        text-align: right;\n",
              "    }\n",
              "</style>\n",
              "<table border=\"1\" class=\"dataframe\">\n",
              "  <thead>\n",
              "    <tr style=\"text-align: right;\">\n",
              "      <th></th>\n",
              "      <th>FilePath</th>\n",
              "      <th>Class</th>\n",
              "    </tr>\n",
              "  </thead>\n",
              "  <tbody>\n",
              "    <tr>\n",
              "      <th>0</th>\n",
              "      <td>./Dataset/Mohammed_Aluhaidan/lohaidan_171.wav</td>\n",
              "      <td>Mohammed_Aluhaidan</td>\n",
              "    </tr>\n",
              "    <tr>\n",
              "      <th>1</th>\n",
              "      <td>./Dataset/Mohammed_Aluhaidan/lohaidan_159.wav</td>\n",
              "      <td>Mohammed_Aluhaidan</td>\n",
              "    </tr>\n",
              "    <tr>\n",
              "      <th>2</th>\n",
              "      <td>./Dataset/Mohammed_Aluhaidan/lohaidan_401.wav</td>\n",
              "      <td>Mohammed_Aluhaidan</td>\n",
              "    </tr>\n",
              "    <tr>\n",
              "      <th>3</th>\n",
              "      <td>./Dataset/Mohammed_Aluhaidan/lohaidan_367.wav</td>\n",
              "      <td>Mohammed_Aluhaidan</td>\n",
              "    </tr>\n",
              "    <tr>\n",
              "      <th>4</th>\n",
              "      <td>./Dataset/Mohammed_Aluhaidan/lohaidan_373.wav</td>\n",
              "      <td>Mohammed_Aluhaidan</td>\n",
              "    </tr>\n",
              "  </tbody>\n",
              "</table>\n",
              "</div>\n",
              "    <div class=\"colab-df-buttons\">\n",
              "\n",
              "  <div class=\"colab-df-container\">\n",
              "    <button class=\"colab-df-convert\" onclick=\"convertToInteractive('df-d1fa0cb8-5537-4a35-aa4e-325c3f3dcc80')\"\n",
              "            title=\"Convert this dataframe to an interactive table.\"\n",
              "            style=\"display:none;\">\n",
              "\n",
              "  <svg xmlns=\"http://www.w3.org/2000/svg\" height=\"24px\" viewBox=\"0 -960 960 960\">\n",
              "    <path d=\"M120-120v-720h720v720H120Zm60-500h600v-160H180v160Zm220 220h160v-160H400v160Zm0 220h160v-160H400v160ZM180-400h160v-160H180v160Zm440 0h160v-160H620v160ZM180-180h160v-160H180v160Zm440 0h160v-160H620v160Z\"/>\n",
              "  </svg>\n",
              "    </button>\n",
              "\n",
              "  <style>\n",
              "    .colab-df-container {\n",
              "      display:flex;\n",
              "      gap: 12px;\n",
              "    }\n",
              "\n",
              "    .colab-df-convert {\n",
              "      background-color: #E8F0FE;\n",
              "      border: none;\n",
              "      border-radius: 50%;\n",
              "      cursor: pointer;\n",
              "      display: none;\n",
              "      fill: #1967D2;\n",
              "      height: 32px;\n",
              "      padding: 0 0 0 0;\n",
              "      width: 32px;\n",
              "    }\n",
              "\n",
              "    .colab-df-convert:hover {\n",
              "      background-color: #E2EBFA;\n",
              "      box-shadow: 0px 1px 2px rgba(60, 64, 67, 0.3), 0px 1px 3px 1px rgba(60, 64, 67, 0.15);\n",
              "      fill: #174EA6;\n",
              "    }\n",
              "\n",
              "    .colab-df-buttons div {\n",
              "      margin-bottom: 4px;\n",
              "    }\n",
              "\n",
              "    [theme=dark] .colab-df-convert {\n",
              "      background-color: #3B4455;\n",
              "      fill: #D2E3FC;\n",
              "    }\n",
              "\n",
              "    [theme=dark] .colab-df-convert:hover {\n",
              "      background-color: #434B5C;\n",
              "      box-shadow: 0px 1px 3px 1px rgba(0, 0, 0, 0.15);\n",
              "      filter: drop-shadow(0px 1px 2px rgba(0, 0, 0, 0.3));\n",
              "      fill: #FFFFFF;\n",
              "    }\n",
              "  </style>\n",
              "\n",
              "    <script>\n",
              "      const buttonEl =\n",
              "        document.querySelector('#df-d1fa0cb8-5537-4a35-aa4e-325c3f3dcc80 button.colab-df-convert');\n",
              "      buttonEl.style.display =\n",
              "        google.colab.kernel.accessAllowed ? 'block' : 'none';\n",
              "\n",
              "      async function convertToInteractive(key) {\n",
              "        const element = document.querySelector('#df-d1fa0cb8-5537-4a35-aa4e-325c3f3dcc80');\n",
              "        const dataTable =\n",
              "          await google.colab.kernel.invokeFunction('convertToInteractive',\n",
              "                                                    [key], {});\n",
              "        if (!dataTable) return;\n",
              "\n",
              "        const docLinkHtml = 'Like what you see? Visit the ' +\n",
              "          '<a target=\"_blank\" href=https://colab.research.google.com/notebooks/data_table.ipynb>data table notebook</a>'\n",
              "          + ' to learn more about interactive tables.';\n",
              "        element.innerHTML = '';\n",
              "        dataTable['output_type'] = 'display_data';\n",
              "        await google.colab.output.renderOutput(dataTable, element);\n",
              "        const docLink = document.createElement('div');\n",
              "        docLink.innerHTML = docLinkHtml;\n",
              "        element.appendChild(docLink);\n",
              "      }\n",
              "    </script>\n",
              "  </div>\n",
              "\n",
              "\n",
              "    <div id=\"df-5db613b3-91f8-466a-8ad8-b96e46c425f2\">\n",
              "      <button class=\"colab-df-quickchart\" onclick=\"quickchart('df-5db613b3-91f8-466a-8ad8-b96e46c425f2')\"\n",
              "                title=\"Suggest charts\"\n",
              "                style=\"display:none;\">\n",
              "\n",
              "<svg xmlns=\"http://www.w3.org/2000/svg\" height=\"24px\"viewBox=\"0 0 24 24\"\n",
              "     width=\"24px\">\n",
              "    <g>\n",
              "        <path d=\"M19 3H5c-1.1 0-2 .9-2 2v14c0 1.1.9 2 2 2h14c1.1 0 2-.9 2-2V5c0-1.1-.9-2-2-2zM9 17H7v-7h2v7zm4 0h-2V7h2v10zm4 0h-2v-4h2v4z\"/>\n",
              "    </g>\n",
              "</svg>\n",
              "      </button>\n",
              "\n",
              "<style>\n",
              "  .colab-df-quickchart {\n",
              "      --bg-color: #E8F0FE;\n",
              "      --fill-color: #1967D2;\n",
              "      --hover-bg-color: #E2EBFA;\n",
              "      --hover-fill-color: #174EA6;\n",
              "      --disabled-fill-color: #AAA;\n",
              "      --disabled-bg-color: #DDD;\n",
              "  }\n",
              "\n",
              "  [theme=dark] .colab-df-quickchart {\n",
              "      --bg-color: #3B4455;\n",
              "      --fill-color: #D2E3FC;\n",
              "      --hover-bg-color: #434B5C;\n",
              "      --hover-fill-color: #FFFFFF;\n",
              "      --disabled-bg-color: #3B4455;\n",
              "      --disabled-fill-color: #666;\n",
              "  }\n",
              "\n",
              "  .colab-df-quickchart {\n",
              "    background-color: var(--bg-color);\n",
              "    border: none;\n",
              "    border-radius: 50%;\n",
              "    cursor: pointer;\n",
              "    display: none;\n",
              "    fill: var(--fill-color);\n",
              "    height: 32px;\n",
              "    padding: 0;\n",
              "    width: 32px;\n",
              "  }\n",
              "\n",
              "  .colab-df-quickchart:hover {\n",
              "    background-color: var(--hover-bg-color);\n",
              "    box-shadow: 0 1px 2px rgba(60, 64, 67, 0.3), 0 1px 3px 1px rgba(60, 64, 67, 0.15);\n",
              "    fill: var(--button-hover-fill-color);\n",
              "  }\n",
              "\n",
              "  .colab-df-quickchart-complete:disabled,\n",
              "  .colab-df-quickchart-complete:disabled:hover {\n",
              "    background-color: var(--disabled-bg-color);\n",
              "    fill: var(--disabled-fill-color);\n",
              "    box-shadow: none;\n",
              "  }\n",
              "\n",
              "  .colab-df-spinner {\n",
              "    border: 2px solid var(--fill-color);\n",
              "    border-color: transparent;\n",
              "    border-bottom-color: var(--fill-color);\n",
              "    animation:\n",
              "      spin 1s steps(1) infinite;\n",
              "  }\n",
              "\n",
              "  @keyframes spin {\n",
              "    0% {\n",
              "      border-color: transparent;\n",
              "      border-bottom-color: var(--fill-color);\n",
              "      border-left-color: var(--fill-color);\n",
              "    }\n",
              "    20% {\n",
              "      border-color: transparent;\n",
              "      border-left-color: var(--fill-color);\n",
              "      border-top-color: var(--fill-color);\n",
              "    }\n",
              "    30% {\n",
              "      border-color: transparent;\n",
              "      border-left-color: var(--fill-color);\n",
              "      border-top-color: var(--fill-color);\n",
              "      border-right-color: var(--fill-color);\n",
              "    }\n",
              "    40% {\n",
              "      border-color: transparent;\n",
              "      border-right-color: var(--fill-color);\n",
              "      border-top-color: var(--fill-color);\n",
              "    }\n",
              "    60% {\n",
              "      border-color: transparent;\n",
              "      border-right-color: var(--fill-color);\n",
              "    }\n",
              "    80% {\n",
              "      border-color: transparent;\n",
              "      border-right-color: var(--fill-color);\n",
              "      border-bottom-color: var(--fill-color);\n",
              "    }\n",
              "    90% {\n",
              "      border-color: transparent;\n",
              "      border-bottom-color: var(--fill-color);\n",
              "    }\n",
              "  }\n",
              "</style>\n",
              "\n",
              "      <script>\n",
              "        async function quickchart(key) {\n",
              "          const quickchartButtonEl =\n",
              "            document.querySelector('#' + key + ' button');\n",
              "          quickchartButtonEl.disabled = true;  // To prevent multiple clicks.\n",
              "          quickchartButtonEl.classList.add('colab-df-spinner');\n",
              "          try {\n",
              "            const charts = await google.colab.kernel.invokeFunction(\n",
              "                'suggestCharts', [key], {});\n",
              "          } catch (error) {\n",
              "            console.error('Error during call to suggestCharts:', error);\n",
              "          }\n",
              "          quickchartButtonEl.classList.remove('colab-df-spinner');\n",
              "          quickchartButtonEl.classList.add('colab-df-quickchart-complete');\n",
              "        }\n",
              "        (() => {\n",
              "          let quickchartButtonEl =\n",
              "            document.querySelector('#df-5db613b3-91f8-466a-8ad8-b96e46c425f2 button');\n",
              "          quickchartButtonEl.style.display =\n",
              "            google.colab.kernel.accessAllowed ? 'block' : 'none';\n",
              "        })();\n",
              "      </script>\n",
              "    </div>\n",
              "\n",
              "    </div>\n",
              "  </div>\n"
            ],
            "application/vnd.google.colaboratory.intrinsic+json": {
              "type": "dataframe",
              "variable_name": "data",
              "summary": "{\n  \"name\": \"data\",\n  \"rows\": 6687,\n  \"fields\": [\n    {\n      \"column\": \"FilePath\",\n      \"properties\": {\n        \"dtype\": \"string\",\n        \"num_unique_values\": 6687,\n        \"samples\": [\n          \"./Dataset/Mohammed_Aluhaidan/lohaidan_045.wav\",\n          \"./Dataset/AbdulBari_Althubaity/abdulbari_346.wav\",\n          \"./Dataset/Saad_Alghamdi/Saad_425.wav\"\n        ],\n        \"semantic_type\": \"\",\n        \"description\": \"\"\n      }\n    },\n    {\n      \"column\": \"Class\",\n      \"properties\": {\n        \"dtype\": \"category\",\n        \"num_unique_values\": 12,\n        \"samples\": [\n          \"Saad_Alghamdi\",\n          \"AbdulRahman_Alsudais\",\n          \"Mohammed_Aluhaidan\"\n        ],\n        \"semantic_type\": \"\",\n        \"description\": \"\"\n      }\n    }\n  ]\n}"
            }
          },
          "metadata": {},
          "execution_count": 6
        }
      ],
      "source": [
        "data.head()"
      ]
    },
    {
      "cell_type": "code",
      "execution_count": null,
      "metadata": {
        "colab": {
          "base_uri": "https://localhost:8080/"
        },
        "id": "ndEvTnRlmWGh",
        "outputId": "93c32958-5396-4e72-dbbf-3c8a1055d98b"
      },
      "outputs": [
        {
          "output_type": "execute_result",
          "data": {
            "text/plain": [
              "array(['Mohammed_Aluhaidan', 'Yasser_Aldossary', 'Maher_Almuaiqly',\n",
              "       'Nasser_Alqutami', 'AbdulBari_Althubaity', 'Bander_Balilah',\n",
              "       'Ali_Alhothaify', 'Saud_Alshuraim', 'Mohammed_Ayoub',\n",
              "       'AbdulRahman_Alsudais', 'Saad_Alghamdi', 'Abdullah_Albuaijan'],\n",
              "      dtype=object)"
            ]
          },
          "metadata": {},
          "execution_count": 7
        }
      ],
      "source": [
        "data['Class'].unique()"
      ]
    },
    {
      "cell_type": "code",
      "execution_count": null,
      "metadata": {
        "colab": {
          "base_uri": "https://localhost:8080/",
          "height": 491
        },
        "id": "JzWkqxL_mpsi",
        "outputId": "be55413c-bf1b-4b4f-edcf-146eab12cb64"
      },
      "outputs": [
        {
          "output_type": "execute_result",
          "data": {
            "text/plain": [
              "Class\n",
              "Saud_Alshuraim          696\n",
              "Saad_Alghamdi           688\n",
              "AbdulRahman_Alsudais    648\n",
              "Yasser_Aldossary        576\n",
              "Ali_Alhothaify          576\n",
              "Bander_Balilah          576\n",
              "Maher_Almuaiqly         576\n",
              "Abdullah_Albuaijan      504\n",
              "Mohammed_Ayoub          480\n",
              "Nasser_Alqutami         456\n",
              "AbdulBari_Althubaity    456\n",
              "Mohammed_Aluhaidan      455\n",
              "Name: count, dtype: int64"
            ],
            "text/html": [
              "<div>\n",
              "<style scoped>\n",
              "    .dataframe tbody tr th:only-of-type {\n",
              "        vertical-align: middle;\n",
              "    }\n",
              "\n",
              "    .dataframe tbody tr th {\n",
              "        vertical-align: top;\n",
              "    }\n",
              "\n",
              "    .dataframe thead th {\n",
              "        text-align: right;\n",
              "    }\n",
              "</style>\n",
              "<table border=\"1\" class=\"dataframe\">\n",
              "  <thead>\n",
              "    <tr style=\"text-align: right;\">\n",
              "      <th></th>\n",
              "      <th>count</th>\n",
              "    </tr>\n",
              "    <tr>\n",
              "      <th>Class</th>\n",
              "      <th></th>\n",
              "    </tr>\n",
              "  </thead>\n",
              "  <tbody>\n",
              "    <tr>\n",
              "      <th>Saud_Alshuraim</th>\n",
              "      <td>696</td>\n",
              "    </tr>\n",
              "    <tr>\n",
              "      <th>Saad_Alghamdi</th>\n",
              "      <td>688</td>\n",
              "    </tr>\n",
              "    <tr>\n",
              "      <th>AbdulRahman_Alsudais</th>\n",
              "      <td>648</td>\n",
              "    </tr>\n",
              "    <tr>\n",
              "      <th>Yasser_Aldossary</th>\n",
              "      <td>576</td>\n",
              "    </tr>\n",
              "    <tr>\n",
              "      <th>Ali_Alhothaify</th>\n",
              "      <td>576</td>\n",
              "    </tr>\n",
              "    <tr>\n",
              "      <th>Bander_Balilah</th>\n",
              "      <td>576</td>\n",
              "    </tr>\n",
              "    <tr>\n",
              "      <th>Maher_Almuaiqly</th>\n",
              "      <td>576</td>\n",
              "    </tr>\n",
              "    <tr>\n",
              "      <th>Abdullah_Albuaijan</th>\n",
              "      <td>504</td>\n",
              "    </tr>\n",
              "    <tr>\n",
              "      <th>Mohammed_Ayoub</th>\n",
              "      <td>480</td>\n",
              "    </tr>\n",
              "    <tr>\n",
              "      <th>Nasser_Alqutami</th>\n",
              "      <td>456</td>\n",
              "    </tr>\n",
              "    <tr>\n",
              "      <th>AbdulBari_Althubaity</th>\n",
              "      <td>456</td>\n",
              "    </tr>\n",
              "    <tr>\n",
              "      <th>Mohammed_Aluhaidan</th>\n",
              "      <td>455</td>\n",
              "    </tr>\n",
              "  </tbody>\n",
              "</table>\n",
              "</div><br><label><b>dtype:</b> int64</label>"
            ]
          },
          "metadata": {},
          "execution_count": 8
        }
      ],
      "source": [
        "data['Class'].value_counts()"
      ]
    },
    {
      "cell_type": "code",
      "execution_count": null,
      "metadata": {
        "id": "hzf8dAEzmvQ_"
      },
      "outputs": [],
      "source": [
        "data['FilePath'] = '/content/quran-recitations-for-audio-classification/Dataset'+data['FilePath'].str[1:]"
      ]
    },
    {
      "cell_type": "code",
      "execution_count": null,
      "metadata": {
        "colab": {
          "base_uri": "https://localhost:8080/",
          "height": 206
        },
        "id": "KeUnFZbHopbF",
        "outputId": "4bfacfb1-194c-4e5b-deea-fe78e73b792c"
      },
      "outputs": [
        {
          "output_type": "execute_result",
          "data": {
            "text/plain": [
              "                                            FilePath               Class\n",
              "0  /content/quran-recitations-for-audio-classific...  Mohammed_Aluhaidan\n",
              "1  /content/quran-recitations-for-audio-classific...  Mohammed_Aluhaidan\n",
              "2  /content/quran-recitations-for-audio-classific...  Mohammed_Aluhaidan\n",
              "3  /content/quran-recitations-for-audio-classific...  Mohammed_Aluhaidan\n",
              "4  /content/quran-recitations-for-audio-classific...  Mohammed_Aluhaidan"
            ],
            "text/html": [
              "\n",
              "  <div id=\"df-bc7782b6-7744-4733-9b9a-90b7a937c416\" class=\"colab-df-container\">\n",
              "    <div>\n",
              "<style scoped>\n",
              "    .dataframe tbody tr th:only-of-type {\n",
              "        vertical-align: middle;\n",
              "    }\n",
              "\n",
              "    .dataframe tbody tr th {\n",
              "        vertical-align: top;\n",
              "    }\n",
              "\n",
              "    .dataframe thead th {\n",
              "        text-align: right;\n",
              "    }\n",
              "</style>\n",
              "<table border=\"1\" class=\"dataframe\">\n",
              "  <thead>\n",
              "    <tr style=\"text-align: right;\">\n",
              "      <th></th>\n",
              "      <th>FilePath</th>\n",
              "      <th>Class</th>\n",
              "    </tr>\n",
              "  </thead>\n",
              "  <tbody>\n",
              "    <tr>\n",
              "      <th>0</th>\n",
              "      <td>/content/quran-recitations-for-audio-classific...</td>\n",
              "      <td>Mohammed_Aluhaidan</td>\n",
              "    </tr>\n",
              "    <tr>\n",
              "      <th>1</th>\n",
              "      <td>/content/quran-recitations-for-audio-classific...</td>\n",
              "      <td>Mohammed_Aluhaidan</td>\n",
              "    </tr>\n",
              "    <tr>\n",
              "      <th>2</th>\n",
              "      <td>/content/quran-recitations-for-audio-classific...</td>\n",
              "      <td>Mohammed_Aluhaidan</td>\n",
              "    </tr>\n",
              "    <tr>\n",
              "      <th>3</th>\n",
              "      <td>/content/quran-recitations-for-audio-classific...</td>\n",
              "      <td>Mohammed_Aluhaidan</td>\n",
              "    </tr>\n",
              "    <tr>\n",
              "      <th>4</th>\n",
              "      <td>/content/quran-recitations-for-audio-classific...</td>\n",
              "      <td>Mohammed_Aluhaidan</td>\n",
              "    </tr>\n",
              "  </tbody>\n",
              "</table>\n",
              "</div>\n",
              "    <div class=\"colab-df-buttons\">\n",
              "\n",
              "  <div class=\"colab-df-container\">\n",
              "    <button class=\"colab-df-convert\" onclick=\"convertToInteractive('df-bc7782b6-7744-4733-9b9a-90b7a937c416')\"\n",
              "            title=\"Convert this dataframe to an interactive table.\"\n",
              "            style=\"display:none;\">\n",
              "\n",
              "  <svg xmlns=\"http://www.w3.org/2000/svg\" height=\"24px\" viewBox=\"0 -960 960 960\">\n",
              "    <path d=\"M120-120v-720h720v720H120Zm60-500h600v-160H180v160Zm220 220h160v-160H400v160Zm0 220h160v-160H400v160ZM180-400h160v-160H180v160Zm440 0h160v-160H620v160ZM180-180h160v-160H180v160Zm440 0h160v-160H620v160Z\"/>\n",
              "  </svg>\n",
              "    </button>\n",
              "\n",
              "  <style>\n",
              "    .colab-df-container {\n",
              "      display:flex;\n",
              "      gap: 12px;\n",
              "    }\n",
              "\n",
              "    .colab-df-convert {\n",
              "      background-color: #E8F0FE;\n",
              "      border: none;\n",
              "      border-radius: 50%;\n",
              "      cursor: pointer;\n",
              "      display: none;\n",
              "      fill: #1967D2;\n",
              "      height: 32px;\n",
              "      padding: 0 0 0 0;\n",
              "      width: 32px;\n",
              "    }\n",
              "\n",
              "    .colab-df-convert:hover {\n",
              "      background-color: #E2EBFA;\n",
              "      box-shadow: 0px 1px 2px rgba(60, 64, 67, 0.3), 0px 1px 3px 1px rgba(60, 64, 67, 0.15);\n",
              "      fill: #174EA6;\n",
              "    }\n",
              "\n",
              "    .colab-df-buttons div {\n",
              "      margin-bottom: 4px;\n",
              "    }\n",
              "\n",
              "    [theme=dark] .colab-df-convert {\n",
              "      background-color: #3B4455;\n",
              "      fill: #D2E3FC;\n",
              "    }\n",
              "\n",
              "    [theme=dark] .colab-df-convert:hover {\n",
              "      background-color: #434B5C;\n",
              "      box-shadow: 0px 1px 3px 1px rgba(0, 0, 0, 0.15);\n",
              "      filter: drop-shadow(0px 1px 2px rgba(0, 0, 0, 0.3));\n",
              "      fill: #FFFFFF;\n",
              "    }\n",
              "  </style>\n",
              "\n",
              "    <script>\n",
              "      const buttonEl =\n",
              "        document.querySelector('#df-bc7782b6-7744-4733-9b9a-90b7a937c416 button.colab-df-convert');\n",
              "      buttonEl.style.display =\n",
              "        google.colab.kernel.accessAllowed ? 'block' : 'none';\n",
              "\n",
              "      async function convertToInteractive(key) {\n",
              "        const element = document.querySelector('#df-bc7782b6-7744-4733-9b9a-90b7a937c416');\n",
              "        const dataTable =\n",
              "          await google.colab.kernel.invokeFunction('convertToInteractive',\n",
              "                                                    [key], {});\n",
              "        if (!dataTable) return;\n",
              "\n",
              "        const docLinkHtml = 'Like what you see? Visit the ' +\n",
              "          '<a target=\"_blank\" href=https://colab.research.google.com/notebooks/data_table.ipynb>data table notebook</a>'\n",
              "          + ' to learn more about interactive tables.';\n",
              "        element.innerHTML = '';\n",
              "        dataTable['output_type'] = 'display_data';\n",
              "        await google.colab.output.renderOutput(dataTable, element);\n",
              "        const docLink = document.createElement('div');\n",
              "        docLink.innerHTML = docLinkHtml;\n",
              "        element.appendChild(docLink);\n",
              "      }\n",
              "    </script>\n",
              "  </div>\n",
              "\n",
              "\n",
              "    <div id=\"df-0f860651-eed6-4921-981a-10cbce98ffb2\">\n",
              "      <button class=\"colab-df-quickchart\" onclick=\"quickchart('df-0f860651-eed6-4921-981a-10cbce98ffb2')\"\n",
              "                title=\"Suggest charts\"\n",
              "                style=\"display:none;\">\n",
              "\n",
              "<svg xmlns=\"http://www.w3.org/2000/svg\" height=\"24px\"viewBox=\"0 0 24 24\"\n",
              "     width=\"24px\">\n",
              "    <g>\n",
              "        <path d=\"M19 3H5c-1.1 0-2 .9-2 2v14c0 1.1.9 2 2 2h14c1.1 0 2-.9 2-2V5c0-1.1-.9-2-2-2zM9 17H7v-7h2v7zm4 0h-2V7h2v10zm4 0h-2v-4h2v4z\"/>\n",
              "    </g>\n",
              "</svg>\n",
              "      </button>\n",
              "\n",
              "<style>\n",
              "  .colab-df-quickchart {\n",
              "      --bg-color: #E8F0FE;\n",
              "      --fill-color: #1967D2;\n",
              "      --hover-bg-color: #E2EBFA;\n",
              "      --hover-fill-color: #174EA6;\n",
              "      --disabled-fill-color: #AAA;\n",
              "      --disabled-bg-color: #DDD;\n",
              "  }\n",
              "\n",
              "  [theme=dark] .colab-df-quickchart {\n",
              "      --bg-color: #3B4455;\n",
              "      --fill-color: #D2E3FC;\n",
              "      --hover-bg-color: #434B5C;\n",
              "      --hover-fill-color: #FFFFFF;\n",
              "      --disabled-bg-color: #3B4455;\n",
              "      --disabled-fill-color: #666;\n",
              "  }\n",
              "\n",
              "  .colab-df-quickchart {\n",
              "    background-color: var(--bg-color);\n",
              "    border: none;\n",
              "    border-radius: 50%;\n",
              "    cursor: pointer;\n",
              "    display: none;\n",
              "    fill: var(--fill-color);\n",
              "    height: 32px;\n",
              "    padding: 0;\n",
              "    width: 32px;\n",
              "  }\n",
              "\n",
              "  .colab-df-quickchart:hover {\n",
              "    background-color: var(--hover-bg-color);\n",
              "    box-shadow: 0 1px 2px rgba(60, 64, 67, 0.3), 0 1px 3px 1px rgba(60, 64, 67, 0.15);\n",
              "    fill: var(--button-hover-fill-color);\n",
              "  }\n",
              "\n",
              "  .colab-df-quickchart-complete:disabled,\n",
              "  .colab-df-quickchart-complete:disabled:hover {\n",
              "    background-color: var(--disabled-bg-color);\n",
              "    fill: var(--disabled-fill-color);\n",
              "    box-shadow: none;\n",
              "  }\n",
              "\n",
              "  .colab-df-spinner {\n",
              "    border: 2px solid var(--fill-color);\n",
              "    border-color: transparent;\n",
              "    border-bottom-color: var(--fill-color);\n",
              "    animation:\n",
              "      spin 1s steps(1) infinite;\n",
              "  }\n",
              "\n",
              "  @keyframes spin {\n",
              "    0% {\n",
              "      border-color: transparent;\n",
              "      border-bottom-color: var(--fill-color);\n",
              "      border-left-color: var(--fill-color);\n",
              "    }\n",
              "    20% {\n",
              "      border-color: transparent;\n",
              "      border-left-color: var(--fill-color);\n",
              "      border-top-color: var(--fill-color);\n",
              "    }\n",
              "    30% {\n",
              "      border-color: transparent;\n",
              "      border-left-color: var(--fill-color);\n",
              "      border-top-color: var(--fill-color);\n",
              "      border-right-color: var(--fill-color);\n",
              "    }\n",
              "    40% {\n",
              "      border-color: transparent;\n",
              "      border-right-color: var(--fill-color);\n",
              "      border-top-color: var(--fill-color);\n",
              "    }\n",
              "    60% {\n",
              "      border-color: transparent;\n",
              "      border-right-color: var(--fill-color);\n",
              "    }\n",
              "    80% {\n",
              "      border-color: transparent;\n",
              "      border-right-color: var(--fill-color);\n",
              "      border-bottom-color: var(--fill-color);\n",
              "    }\n",
              "    90% {\n",
              "      border-color: transparent;\n",
              "      border-bottom-color: var(--fill-color);\n",
              "    }\n",
              "  }\n",
              "</style>\n",
              "\n",
              "      <script>\n",
              "        async function quickchart(key) {\n",
              "          const quickchartButtonEl =\n",
              "            document.querySelector('#' + key + ' button');\n",
              "          quickchartButtonEl.disabled = true;  // To prevent multiple clicks.\n",
              "          quickchartButtonEl.classList.add('colab-df-spinner');\n",
              "          try {\n",
              "            const charts = await google.colab.kernel.invokeFunction(\n",
              "                'suggestCharts', [key], {});\n",
              "          } catch (error) {\n",
              "            console.error('Error during call to suggestCharts:', error);\n",
              "          }\n",
              "          quickchartButtonEl.classList.remove('colab-df-spinner');\n",
              "          quickchartButtonEl.classList.add('colab-df-quickchart-complete');\n",
              "        }\n",
              "        (() => {\n",
              "          let quickchartButtonEl =\n",
              "            document.querySelector('#df-0f860651-eed6-4921-981a-10cbce98ffb2 button');\n",
              "          quickchartButtonEl.style.display =\n",
              "            google.colab.kernel.accessAllowed ? 'block' : 'none';\n",
              "        })();\n",
              "      </script>\n",
              "    </div>\n",
              "\n",
              "    </div>\n",
              "  </div>\n"
            ],
            "application/vnd.google.colaboratory.intrinsic+json": {
              "type": "dataframe",
              "variable_name": "data",
              "summary": "{\n  \"name\": \"data\",\n  \"rows\": 6687,\n  \"fields\": [\n    {\n      \"column\": \"FilePath\",\n      \"properties\": {\n        \"dtype\": \"string\",\n        \"num_unique_values\": 6687,\n        \"samples\": [\n          \"/content/quran-recitations-for-audio-classification/Dataset/Dataset/Mohammed_Aluhaidan/lohaidan_045.wav\",\n          \"/content/quran-recitations-for-audio-classification/Dataset/Dataset/AbdulBari_Althubaity/abdulbari_346.wav\",\n          \"/content/quran-recitations-for-audio-classification/Dataset/Dataset/Saad_Alghamdi/Saad_425.wav\"\n        ],\n        \"semantic_type\": \"\",\n        \"description\": \"\"\n      }\n    },\n    {\n      \"column\": \"Class\",\n      \"properties\": {\n        \"dtype\": \"category\",\n        \"num_unique_values\": 12,\n        \"samples\": [\n          \"Saad_Alghamdi\",\n          \"AbdulRahman_Alsudais\",\n          \"Mohammed_Aluhaidan\"\n        ],\n        \"semantic_type\": \"\",\n        \"description\": \"\"\n      }\n    }\n  ]\n}"
            }
          },
          "metadata": {},
          "execution_count": 10
        }
      ],
      "source": [
        "data.head()"
      ]
    },
    {
      "cell_type": "code",
      "execution_count": null,
      "metadata": {
        "colab": {
          "base_uri": "https://localhost:8080/",
          "height": 36
        },
        "id": "nXRhEesXoqwT",
        "outputId": "3d559fd3-0ef8-4838-cec9-365fc74be180"
      },
      "outputs": [
        {
          "output_type": "execute_result",
          "data": {
            "text/plain": [
              "'/content/quran-recitations-for-audio-classification/Dataset/Dataset/Mohammed_Aluhaidan/lohaidan_171.wav'"
            ],
            "application/vnd.google.colaboratory.intrinsic+json": {
              "type": "string"
            }
          },
          "metadata": {},
          "execution_count": 11
        }
      ],
      "source": [
        "data['FilePath'][0]"
      ]
    },
    {
      "cell_type": "code",
      "execution_count": null,
      "metadata": {
        "colab": {
          "base_uri": "https://localhost:8080/"
        },
        "id": "XXECEu9KovIn",
        "outputId": "6c883836-7655-4a3c-e507-f97869ba8f5a"
      },
      "outputs": [
        {
          "output_type": "execute_result",
          "data": {
            "text/plain": [
              "(6687, 2)"
            ]
          },
          "metadata": {},
          "execution_count": 12
        }
      ],
      "source": [
        "data.shape"
      ]
    },
    {
      "cell_type": "code",
      "execution_count": null,
      "metadata": {
        "id": "yD9IT9Zx8kgR"
      },
      "outputs": [],
      "source": [
        "label = LabelEncoder()\n",
        "data['Class'] = label.fit_transform(data['Class'])"
      ]
    },
    {
      "cell_type": "code",
      "execution_count": null,
      "metadata": {
        "id": "G7tNkk7eo8Fi"
      },
      "outputs": [],
      "source": [
        "train = data.sample(frac=0.7 , random_state=42)\n",
        "test = data.drop(train.index)\n",
        "\n",
        "\n",
        "val = test.sample(frac=0.5 , random_state=42)\n",
        "test = test.drop(val.index)"
      ]
    },
    {
      "cell_type": "code",
      "execution_count": null,
      "metadata": {
        "id": "WBdy75kRp1aM"
      },
      "outputs": [],
      "source": [
        "class CustomAudioDataset(Dataset):\n",
        "    def __init__(self, data):\n",
        "        self.data = data\n",
        "        self.labels = list(data['Class'])  # Keep labels as raw values\n",
        "\n",
        "    def __len__(self):\n",
        "        return len(self.data)\n",
        "\n",
        "    def __getitem__(self, index):\n",
        "        img_path = self.data.iloc[index, 0]\n",
        "        label = torch.tensor(self.labels[index], dtype=torch.long)\n",
        "        audio = torch.tensor(self.get_spectogram(img_path), dtype=torch.float32).unsqueeze(0)\n",
        "        return audio, label\n",
        "\n",
        "    def get_spectogram(self, path):\n",
        "        sr = 22050\n",
        "        duration = 5\n",
        "        img_height = 128\n",
        "        img_width = 256\n",
        "        signal, sr = librosa.load(path, sr=sr, duration=duration)\n",
        "        spec = librosa.feature.melspectrogram(y=signal, sr=sr, n_mels=img_height, n_fft=2048, hop_length=512)\n",
        "        spec_db = librosa.power_to_db(spec, ref=np.max)\n",
        "        spec_resized = resize(spec_db, (img_height, img_width), anti_aliasing=True)\n",
        "        # Optionally normalize:\n",
        "        spec_resized = (spec_resized - spec_resized.mean()) / (spec_resized.std() + 1e-6)\n",
        "        return spec_resized\n"
      ]
    },
    {
      "cell_type": "code",
      "execution_count": null,
      "metadata": {
        "id": "aAwyrPQc77Ff"
      },
      "outputs": [],
      "source": [
        "train_dataset = CustomAudioDataset(train)\n",
        "test_dataset = CustomAudioDataset(test)\n",
        "val_dataset = CustomAudioDataset(val)"
      ]
    },
    {
      "cell_type": "code",
      "execution_count": null,
      "metadata": {
        "id": "FnUaYBFi8DcE"
      },
      "outputs": [],
      "source": [
        "learning_rate = 1e-4\n",
        "batch_size = 16\n",
        "epochs = 25"
      ]
    },
    {
      "cell_type": "code",
      "execution_count": null,
      "metadata": {
        "id": "qi3bjy2Q_pZV"
      },
      "outputs": [],
      "source": [
        "train_loader = DataLoader(train_dataset , batch_size=batch_size , shuffle=True)\n",
        "val_loader = DataLoader(val_dataset , batch_size=batch_size , shuffle=True)\n",
        "test_loader = DataLoader(test_dataset , batch_size=batch_size , shuffle=True)"
      ]
    },
    {
      "cell_type": "code",
      "execution_count": null,
      "metadata": {
        "id": "smNz5A8h_zX3"
      },
      "outputs": [],
      "source": [
        "class Net(nn.Module):\n",
        "  def __init__(self):\n",
        "    super(Net , self).__init__()\n",
        "    self.conv1 = nn.Conv2d(1 , 16 , kernel_size=3 , padding=1)\n",
        "    self.conv2 = nn.Conv2d(16 , 32 , kernel_size=3 , padding=1)\n",
        "    self.conv3 = nn.Conv2d(32 , 64 , kernel_size=3 , padding=1)\n",
        "    self.pool = nn.MaxPool2d(2 , 2)\n",
        "    self.relu = nn.ReLU()\n",
        "\n",
        "    self.flatten = nn.Flatten()\n",
        "    self.linear1 = nn.Linear(64 * 16 * 32 , 4096)\n",
        "    self.linear2 = nn.Linear(4096 , 1024)\n",
        "    self.linear3 = nn.Linear(1024 , 512)\n",
        "    self.output = nn.Linear(512 , len(data['Class'].unique()))\n",
        "    self.dropout = nn.Dropout(0.5)\n",
        "\n",
        "  def forward(self , x):\n",
        "    x = self.conv1(x)\n",
        "    x = self.pool(x)\n",
        "    x = self.conv2(x)\n",
        "    x = self.pool(x)\n",
        "    x = self.conv3(x)\n",
        "    x = self.pool(x)\n",
        "    x = self.relu(x)\n",
        "\n",
        "    x = x.view(x.size(0) , -1)\n",
        "    x = self.flatten(x)\n",
        "    x = self.linear1(x)\n",
        "    x = self.dropout(x)\n",
        "\n",
        "    x = self.linear2(x)\n",
        "    x = self.dropout(x)\n",
        "\n",
        "    x = self.linear3(x)\n",
        "    x = self.dropout(x)\n",
        "\n",
        "    x = self.output(x)\n",
        "\n",
        "    return x"
      ]
    },
    {
      "cell_type": "code",
      "execution_count": null,
      "metadata": {
        "colab": {
          "base_uri": "https://localhost:8080/"
        },
        "id": "pdRSJq4GEP3m",
        "outputId": "6546192e-8174-4d9a-d852-69765db0e3c9"
      },
      "outputs": [
        {
          "output_type": "stream",
          "name": "stdout",
          "text": [
            "Net(\n",
            "  (conv1): Conv2d(1, 16, kernel_size=(3, 3), stride=(1, 1), padding=(1, 1))\n",
            "  (conv2): Conv2d(16, 32, kernel_size=(3, 3), stride=(1, 1), padding=(1, 1))\n",
            "  (conv3): Conv2d(32, 64, kernel_size=(3, 3), stride=(1, 1), padding=(1, 1))\n",
            "  (pool): MaxPool2d(kernel_size=2, stride=2, padding=0, dilation=1, ceil_mode=False)\n",
            "  (relu): ReLU()\n",
            "  (flatten): Flatten(start_dim=1, end_dim=-1)\n",
            "  (linear1): Linear(in_features=32768, out_features=4096, bias=True)\n",
            "  (linear2): Linear(in_features=4096, out_features=1024, bias=True)\n",
            "  (linear3): Linear(in_features=1024, out_features=512, bias=True)\n",
            "  (output): Linear(in_features=512, out_features=12, bias=True)\n",
            "  (dropout): Dropout(p=0.5, inplace=False)\n",
            ")\n"
          ]
        }
      ],
      "source": [
        "model = Net().to(device)\n",
        "print(model)"
      ]
    },
    {
      "cell_type": "code",
      "execution_count": null,
      "metadata": {
        "id": "7pKmlPDiEs1l"
      },
      "outputs": [],
      "source": [
        "from torchsummary import summary"
      ]
    },
    {
      "cell_type": "code",
      "execution_count": null,
      "metadata": {
        "colab": {
          "base_uri": "https://localhost:8080/"
        },
        "id": "Ax_UpWedEzVG",
        "outputId": "5279aa0e-9d4f-4582-c6e4-662453fc14ee"
      },
      "outputs": [
        {
          "output_type": "stream",
          "name": "stdout",
          "text": [
            "----------------------------------------------------------------\n",
            "        Layer (type)               Output Shape         Param #\n",
            "================================================================\n",
            "            Conv2d-1         [-1, 16, 128, 256]             160\n",
            "         MaxPool2d-2          [-1, 16, 64, 128]               0\n",
            "            Conv2d-3          [-1, 32, 64, 128]           4,640\n",
            "         MaxPool2d-4           [-1, 32, 32, 64]               0\n",
            "            Conv2d-5           [-1, 64, 32, 64]          18,496\n",
            "         MaxPool2d-6           [-1, 64, 16, 32]               0\n",
            "              ReLU-7           [-1, 64, 16, 32]               0\n",
            "           Flatten-8                [-1, 32768]               0\n",
            "            Linear-9                 [-1, 4096]     134,221,824\n",
            "          Dropout-10                 [-1, 4096]               0\n",
            "           Linear-11                 [-1, 1024]       4,195,328\n",
            "          Dropout-12                 [-1, 1024]               0\n",
            "           Linear-13                  [-1, 512]         524,800\n",
            "          Dropout-14                  [-1, 512]               0\n",
            "           Linear-15                   [-1, 12]           6,156\n",
            "================================================================\n",
            "Total params: 138,971,404\n",
            "Trainable params: 138,971,404\n",
            "Non-trainable params: 0\n",
            "----------------------------------------------------------------\n",
            "Input size (MB): 0.12\n",
            "Forward/backward pass size (MB): 9.34\n",
            "Params size (MB): 530.13\n",
            "Estimated Total Size (MB): 539.59\n",
            "----------------------------------------------------------------\n"
          ]
        }
      ],
      "source": [
        "summary(model ,(1 , 128 , 256))"
      ]
    },
    {
      "cell_type": "code",
      "execution_count": null,
      "metadata": {
        "id": "m7G9a59mFCby"
      },
      "outputs": [],
      "source": [
        "\n",
        "criterion = nn.CrossEntropyLoss()\n",
        "optimizer = Adam(model.parameters() , lr=learning_rate)"
      ]
    },
    {
      "cell_type": "code",
      "execution_count": null,
      "metadata": {
        "colab": {
          "base_uri": "https://localhost:8080/"
        },
        "id": "QvJo5PuXFfRt",
        "outputId": "3555dc6d-9f95-4a78-c729-0dd0fe2237b5"
      },
      "outputs": [
        {
          "output_type": "stream",
          "name": "stdout",
          "text": [
            "Epoch: 1/25\n",
            "  Train Loss: 1.0578 | Train Accuracy: 65.4988%\n",
            "  Val   Loss: 0.2224 | Val   Accuracy: 94.2173%\n",
            "========================================\n",
            "Epoch: 2/25\n",
            "  Train Loss: 0.2256 | Train Accuracy: 92.8648%\n",
            "  Val   Loss: 0.0828 | Val   Accuracy: 97.2084%\n",
            "========================================\n",
            "Epoch: 3/25\n",
            "  Train Loss: 0.1166 | Train Accuracy: 96.1547%\n",
            "  Val   Loss: 0.2417 | Val   Accuracy: 94.317%\n",
            "========================================\n",
            "Epoch: 4/25\n",
            "  Train Loss: 0.079 | Train Accuracy: 97.5646%\n",
            "  Val   Loss: 0.0583 | Val   Accuracy: 98.3051%\n",
            "========================================\n",
            "Epoch: 5/25\n",
            "  Train Loss: 0.0616 | Train Accuracy: 98.1201%\n",
            "  Val   Loss: 0.0397 | Val   Accuracy: 98.9033%\n",
            "========================================\n",
            "Epoch: 6/25\n",
            "  Train Loss: 0.0497 | Train Accuracy: 98.5473%\n",
            "  Val   Loss: 0.0449 | Val   Accuracy: 99.003%\n",
            "========================================\n",
            "Epoch: 7/25\n",
            "  Train Loss: 0.0366 | Train Accuracy: 99.0173%\n",
            "  Val   Loss: 0.1403 | Val   Accuracy: 96.1117%\n",
            "========================================\n",
            "Epoch: 8/25\n",
            "  Train Loss: 0.0494 | Train Accuracy: 98.526%\n",
            "  Val   Loss: 0.1097 | Val   Accuracy: 97.1087%\n",
            "========================================\n",
            "Epoch: 9/25\n",
            "  Train Loss: 0.0636 | Train Accuracy: 98.2055%\n",
            "  Val   Loss: 0.2358 | Val   Accuracy: 93.8185%\n",
            "========================================\n",
            "Epoch: 10/25\n",
            "  Train Loss: 0.037 | Train Accuracy: 99.0387%\n",
            "  Val   Loss: 0.0883 | Val   Accuracy: 97.4078%\n",
            "========================================\n",
            "Epoch: 11/25\n",
            "  Train Loss: 0.0165 | Train Accuracy: 99.5727%\n",
            "  Val   Loss: 0.053 | Val   Accuracy: 98.9033%\n",
            "========================================\n",
            "Epoch: 12/25\n",
            "  Train Loss: 0.0101 | Train Accuracy: 99.7223%\n",
            "  Val   Loss: 0.0347 | Val   Accuracy: 99.2024%\n",
            "========================================\n",
            "Epoch: 13/25\n",
            "  Train Loss: 0.0112 | Train Accuracy: 99.7009%\n",
            "  Val   Loss: 0.0906 | Val   Accuracy: 97.7069%\n",
            "========================================\n",
            "Epoch: 14/25\n",
            "  Train Loss: 0.0388 | Train Accuracy: 99.1028%\n",
            "  Val   Loss: 0.0804 | Val   Accuracy: 98.2054%\n",
            "========================================\n",
            "Epoch: 15/25\n",
            "  Train Loss: 0.0246 | Train Accuracy: 99.1455%\n",
            "  Val   Loss: 0.2048 | Val   Accuracy: 95.6132%\n",
            "========================================\n",
            "Epoch: 16/25\n",
            "  Train Loss: 0.0782 | Train Accuracy: 98.0346%\n",
            "  Val   Loss: 0.16 | Val   Accuracy: 96.1117%\n",
            "========================================\n",
            "Epoch: 17/25\n",
            "  Train Loss: 0.0423 | Train Accuracy: 98.825%\n",
            "  Val   Loss: 0.0956 | Val   Accuracy: 98.2054%\n",
            "========================================\n",
            "Epoch: 18/25\n",
            "  Train Loss: 0.0247 | Train Accuracy: 99.4446%\n",
            "  Val   Loss: 0.0781 | Val   Accuracy: 97.9063%\n",
            "========================================\n",
            "Epoch: 19/25\n",
            "  Train Loss: 0.0435 | Train Accuracy: 98.8891%\n",
            "  Val   Loss: 0.0848 | Val   Accuracy: 98.006%\n",
            "========================================\n",
            "Epoch: 20/25\n",
            "  Train Loss: 0.0135 | Train Accuracy: 99.6155%\n",
            "  Val   Loss: 0.1185 | Val   Accuracy: 96.9093%\n",
            "========================================\n",
            "Epoch: 21/25\n",
            "  Train Loss: 0.0714 | Train Accuracy: 98.526%\n",
            "  Val   Loss: 0.0922 | Val   Accuracy: 98.2054%\n",
            "========================================\n",
            "Epoch: 22/25\n",
            "  Train Loss: 0.006 | Train Accuracy: 99.8932%\n",
            "  Val   Loss: 0.0709 | Val   Accuracy: 98.8036%\n",
            "========================================\n",
            "Epoch: 23/25\n",
            "  Train Loss: 0.0181 | Train Accuracy: 99.53%\n",
            "  Val   Loss: 0.1222 | Val   Accuracy: 97.6072%\n",
            "========================================\n",
            "Epoch: 24/25\n",
            "  Train Loss: 0.0223 | Train Accuracy: 99.4018%\n",
            "  Val   Loss: 0.1346 | Val   Accuracy: 96.9093%\n",
            "========================================\n",
            "Epoch: 25/25\n",
            "  Train Loss: 0.039 | Train Accuracy: 99.1455%\n",
            "  Val   Loss: 0.1196 | Val   Accuracy: 97.6072%\n",
            "========================================\n"
          ]
        }
      ],
      "source": [
        "total_loss_train_plot = []\n",
        "total_loss_validation_plot = []\n",
        "total_accuracy_train_plot = []\n",
        "total_accuracy_validation_plot = []\n",
        "\n",
        "for epoch in range(epochs):\n",
        "    model.train()\n",
        "    total_acc_train = 0\n",
        "    total_loss_train = 0\n",
        "\n",
        "    for input, label in train_loader:\n",
        "        input = input.to(device)\n",
        "        label = label.to(device)\n",
        "\n",
        "        output = model(input)\n",
        "        loss = criterion(output, label)\n",
        "        total_loss_train += loss.item()\n",
        "\n",
        "        optimizer.zero_grad()\n",
        "        loss.backward()\n",
        "        optimizer.step()\n",
        "\n",
        "        predictions = torch.argmax(output, dim=1)\n",
        "        total_acc_train += (predictions == label).sum().item()\n",
        "\n",
        "    model.eval()\n",
        "    total_acc_val = 0\n",
        "    total_loss_val = 0\n",
        "\n",
        "    with torch.no_grad():\n",
        "        for input, label in val_loader:\n",
        "            input = input.to(device)\n",
        "            label = label.to(device)\n",
        "\n",
        "            output = model(input)\n",
        "            loss = criterion(output, label)\n",
        "            total_loss_val += loss.item()\n",
        "\n",
        "            predictions = torch.argmax(output, dim=1)\n",
        "            total_acc_val += (predictions == label).sum().item()\n",
        "\n",
        "    avg_loss_train = round(total_loss_train / len(train_loader), 4)\n",
        "    avg_loss_val = round(total_loss_val / len(val_loader), 4)\n",
        "    avg_acc_train = round((total_acc_train / len(train_dataset)) * 100, 4)\n",
        "    avg_acc_val = round((total_acc_val / len(val_dataset)) * 100, 4)\n",
        "\n",
        "\n",
        "    total_loss_train_plot.append(avg_loss_train)\n",
        "    total_loss_validation_plot.append(avg_loss_val)\n",
        "    total_accuracy_train_plot.append(avg_acc_train)\n",
        "    total_accuracy_validation_plot.append(avg_acc_val)\n",
        "\n",
        "    print(f\"Epoch: {epoch+1}/{epochs}\")\n",
        "    print(f\"  Train Loss: {avg_loss_train} | Train Accuracy: {avg_acc_train}%\")\n",
        "    print(f\"  Val   Loss: {avg_loss_val} | Val   Accuracy: {avg_acc_val}%\")\n",
        "    print(\"=\" * 40)\n"
      ]
    },
    {
      "cell_type": "code",
      "execution_count": null,
      "metadata": {
        "id": "J0xwEJX63v3b",
        "colab": {
          "base_uri": "https://localhost:8080/"
        },
        "outputId": "d1c9d4ba-fa9c-4cc5-91f1-688e1e738cd3"
      },
      "outputs": [
        {
          "output_type": "stream",
          "name": "stdout",
          "text": [
            "Test Accuracy: 97.5075%\n"
          ]
        }
      ],
      "source": [
        "with torch.no_grad():\n",
        "  total_loss_test = 0\n",
        "  total_acc_test = 0\n",
        "  for inputs , labels  in test_loader:\n",
        "    inputs = inputs.to(device)\n",
        "    labels = labels.to(device)\n",
        "    prediction = model(inputs)\n",
        "    acc = (torch.argmax(prediction , axis=1)==labels).sum().item()\n",
        "    total_acc_test += acc\n",
        "\n",
        "  avg_acc_test = round((total_acc_test / len(test_dataset)) * 100, 4)\n",
        "  print(f\"Test Accuracy: {avg_acc_test}%\")"
      ]
    },
    {
      "cell_type": "code",
      "source": [],
      "metadata": {
        "id": "qBExaifl1M5z"
      },
      "execution_count": null,
      "outputs": []
    },
    {
      "cell_type": "code",
      "metadata": {
        "colab": {
          "base_uri": "https://localhost:8080/",
          "height": 410
        },
        "id": "d679d14a",
        "outputId": "4eb44ee2-a4a1-45b2-f24d-c10a60f13d34"
      },
      "source": [
        "plt.figure(figsize=(12, 4))\n",
        "\n",
        "plt.subplot(1, 2, 1)\n",
        "plt.plot(total_loss_train_plot, label='Training Loss')\n",
        "plt.plot(total_loss_validation_plot, label='Validation Loss')\n",
        "plt.xlabel('Epoch')\n",
        "plt.ylabel('Loss')\n",
        "plt.title('Training and Validation Loss')\n",
        "plt.legend()\n",
        "\n",
        "plt.subplot(1, 2, 2)\n",
        "plt.plot(total_accuracy_train_plot, label='Training Accuracy')\n",
        "plt.plot(total_accuracy_validation_plot, label='Validation Accuracy')\n",
        "plt.xlabel('Epoch')\n",
        "plt.ylabel('Accuracy (%)')\n",
        "plt.title('Training and Validation Accuracy')\n",
        "plt.legend()\n",
        "\n",
        "plt.show()"
      ],
      "execution_count": null,
      "outputs": [
        {
          "output_type": "display_data",
          "data": {
            "text/plain": [
              "<Figure size 1200x400 with 2 Axes>"
            ],
            "image/png": "[encoded data removed]"
          },
          "metadata": {}
        }
      ]
    }
  ],
  "metadata": {
    "accelerator": "GPU",
    "colab": {
      "gpuType": "T4",
      "provenance": [],
      "authorship_tag": "ABX9TyP7ymQ405AjYK/dKpNGHQTj",
      "include_colab_link": true
    },
    "kernelspec": {
      "display_name": "Python 3",
      "name": "python3"
    },
    "language_info": {
      "name": "python"
    }
  },
  "nbformat": 4,
  "nbformat_minor": 0
}